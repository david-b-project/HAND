{
 "cells": [
  {
   "cell_type": "markdown",
   "metadata": {},
   "source": [
    "Copyright 2021 D Bazzett  \n",
    "The purpose of this code is to open the existing NFIE Hydrotables (downloaded from the Oakridge Nat'l Lab website) and add Strahler Stream Order (provided from NHDPLUS Dataset). The original purpose of this was to revise the Mannign's Roughness based on the Stream Order (as done in GeoFlood and Cahaba), this is not performed here. Roughness is calibrated in later code."
   ]
  },
  {
   "cell_type": "code",
   "execution_count": 3,
   "metadata": {},
   "outputs": [],
   "source": [
    "import dbfread as dbf\n",
    "import pandas as pd\n",
    "\n",
    "def UpdateManning():\n",
    "    print('UpdateManning begin ' + hydrotable_file)\n",
    "    # Load data sets\n",
    "    nhd = pd.DataFrame(iter(dbf.read(nhd_file)))\n",
    "    hydrotable = pd.read_csv(hydrotable_file)\n",
    "\n",
    "    # Read the unique COMIDs from your hydrotable, put them in a new dataframe\n",
    "    # Add the NDH data for these COMIDS (NHD file contains data for all 2.7M COMIDS)\n",
    "    df1 = pd.DataFrame(hydrotable[\"CatchId\"].unique(), columns=[\"ComID\"])\n",
    "    df1['Order'] = \"\"\n",
    "    df1 = df1.merge(nhd,on='ComID')\n",
    "\n",
    "    # Create a small dataframe with just the COMID and stream order\n",
    "    # Format column names and merge to hydrotable\n",
    "    df2 = df1[['StreamOrde','ComID']].copy()\n",
    "    df2 = df2.rename(columns={'ComID':'CatchId'})\n",
    "    hydrotable = hydrotable.merge(df2,on='CatchId',how='left')\n",
    "\n",
    "    # This is a csv of Manning's N based on stream order. The initial data is from the CAHABA Manning's data\n",
    "    # Merge this roughness data into the hydrotable\n",
    "#     rough = pd.read_csv(rough_file)\n",
    "#     hydrotable = hydrotable.merge(rough,on='StreamOrde',how='left')\n",
    "\n",
    "    # Calculate flow based on the new Manning's N\n",
    "#     hydrotable['Discharge (m3s-1)'] = hydrotable['WetArea (m2)'] * pow(hydrotable['HydraulicRadius (m)'],2.0/3) * \\\n",
    "#         pow(hydrotable['SLOPE'],0.5) / hydrotable['rough']\n",
    "    \n",
    "    # TODO: Do we overwrite the existing hydrotable or create a new one?\n",
    "    # Write new table to file (comment out for testing)\n",
    "    new_file=hydrotable_file[:-4] + \"-updated.csv\"\n",
    "    hydrotable.to_csv(new_file)\n",
    "    print('UpdateManning complete! ' + new_file)\n",
    "    "
   ]
  },
  {
   "cell_type": "code",
   "execution_count": 4,
   "metadata": {},
   "outputs": [
    {
     "name": "stdout",
     "output_type": "stream",
     "text": [
      "UpdateManning begin C:/Users/David/G-Rutgers/020301/hydrogeo-fulltable-020301.csv\n"
     ]
    },
    {
     "name": "stderr",
     "output_type": "stream",
     "text": [
      "C:\\Users\\David\\Anaconda3\\lib\\site-packages\\dbfread\\deprecated_dbf.py:47: UserWarning: dbfread.read() has been replaced by DBF(load=True) and will be removed in 2.2.\n",
      "  warnings.warn(\"dbfread.read() has been replaced by DBF(load=True)\"\n"
     ]
    },
    {
     "name": "stdout",
     "output_type": "stream",
     "text": [
      "UpdateManning complete! C:/Users/David/G-Rutgers/020301/hydrogeo-fulltable-020301-updated.csv\n",
      "UpdateManning begin C:/Users/David/G-Rutgers/020401/hydrogeo-fulltable-020401.csv\n",
      "UpdateManning complete! C:/Users/David/G-Rutgers/020401/hydrogeo-fulltable-020401-updated.csv\n",
      "UpdateManning begin C:/Users/David/G-Rutgers/020402/hydrogeo-fulltable-020402.csv\n",
      "UpdateManning complete! C:/Users/David/G-Rutgers/020402/hydrogeo-fulltable-020402-updated.csv\n",
      "UpdateManning begin C:/Users/David/G-Rutgers/020403/hydrogeo-fulltable-020403.csv\n",
      "UpdateManning complete! C:/Users/David/G-Rutgers/020403/hydrogeo-fulltable-020403-updated.csv\n"
     ]
    }
   ],
   "source": [
    "for comid in ['020301', '020401', '020402', '020403']:\n",
    "    hydrotable_file = \"C:/Users/David/G-Rutgers/\" + comid + \"/hydrogeo-fulltable-\" + comid + \".csv\"\n",
    "    nhd_file = 'C:/Users/David/G-Rutgers/NHDPlusAttributes/PlusFlowlineVAA.dbf'\n",
    "#     rough_file = \"./roughness.csv\"\n",
    "    UpdateManning()"
   ]
  }
 ],
 "metadata": {
  "kernelspec": {
   "display_name": "Python 3 (ipykernel)",
   "language": "python",
   "name": "python3"
  },
  "language_info": {
   "codemirror_mode": {
    "name": "ipython",
    "version": 3
   },
   "file_extension": ".py",
   "mimetype": "text/x-python",
   "name": "python",
   "nbconvert_exporter": "python",
   "pygments_lexer": "ipython3",
   "version": "3.7.11"
  }
 },
 "nbformat": 4,
 "nbformat_minor": 4
}
