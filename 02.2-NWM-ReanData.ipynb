{
 "cells": [
  {
   "cell_type": "markdown",
   "metadata": {},
   "source": [
    "Copyright 2021 D Bazzett  \n",
    "The purpose of this code is to read and analyze Nat'l Water Model (NWM) Reanalyss Data.\n",
    "\n",
    "Get reanalysis data from NWM through this link (hosted through AWS)\n",
    "https://docs.opendata.aws/nwm-archive/readme.html\n"
   ]
  },
  {
   "cell_type": "code",
   "execution_count": 1,
   "metadata": {},
   "outputs": [],
   "source": [
    "import pandas as pd\n",
    "import datetime as dt\n",
    "import h5py    \n",
    "import numpy as np    \n",
    "import xarray as xr\n",
    "\n",
    "# nwm = pd.read_hdf('./200504040000.CHRTOUT_DOMAIN1.comp')\n",
    "# This doesn't work - I have read that only very specifc HDF5 formats can be translated directly to pandas\n",
    "# Here's an easy fix from stachexchange\n",
    "# df = pd.DataFrame(np.array(h5py.File(path)['variable_1']))"
   ]
  },
  {
   "cell_type": "code",
   "execution_count": 2,
   "metadata": {},
   "outputs": [],
   "source": [
    "f1 = h5py.File('./201108281500.CHRTOUT_DOMAIN1.comp','r+')    "
   ]
  },
  {
   "cell_type": "code",
   "execution_count": 3,
   "metadata": {},
   "outputs": [
    {
     "data": {
      "text/plain": [
       "<KeysViewHDF5 ['_NCProperties', 'featureType', 'proj4', 'model_initialization_time', 'station_dimension', 'model_output_valid_time', 'stream_order_output', 'cdm_datatype', 'esri_pe_string', 'Conventions', 'model_version', 'dev_OVRTSWCRT', 'dev_NOAH_TIMESTEP', 'dev_channel_only', 'dev_channelBucket_only', 'dev']>"
      ]
     },
     "execution_count": 3,
     "metadata": {},
     "output_type": "execute_result"
    }
   ],
   "source": [
    "f1.attrs.keys()"
   ]
  },
  {
   "cell_type": "code",
   "execution_count": 5,
   "metadata": {},
   "outputs": [
    {
     "data": {
      "text/plain": [
       "array([1])"
      ]
     },
     "execution_count": 5,
     "metadata": {},
     "output_type": "execute_result"
    }
   ],
   "source": [
    "f1.attrs['stream_order_output']"
   ]
  },
  {
   "cell_type": "code",
   "execution_count": 17,
   "metadata": {},
   "outputs": [
    {
     "data": {
      "text/plain": [
       "<Attributes of HDF5 object at 2189178661040>"
      ]
     },
     "execution_count": 17,
     "metadata": {},
     "output_type": "execute_result"
    }
   ],
   "source": [
    "f1['streamflow'].attrs"
   ]
  },
  {
   "cell_type": "code",
   "execution_count": 19,
   "metadata": {},
   "outputs": [],
   "source": [
    "# f1.attrs['streamflow']"
   ]
  },
  {
   "cell_type": "code",
   "execution_count": 9,
   "metadata": {},
   "outputs": [
    {
     "data": {
      "text/plain": [
       "<bound method MappingHDF5.keys of <HDF5 file \"201108281500.CHRTOUT_DOMAIN1.comp\" (mode r+)>>"
      ]
     },
     "execution_count": 9,
     "metadata": {},
     "output_type": "execute_result"
    }
   ],
   "source": [
    "f1.keys"
   ]
  },
  {
   "cell_type": "code",
   "execution_count": 8,
   "metadata": {},
   "outputs": [
    {
     "data": {
      "text/plain": [
       "<KeysViewHDF5 ['feature_id', 'qBtmVertRunoff', 'qBucket', 'qSfcLatRunoff', 'q_lateral', 'reference_time', 'streamflow', 'time', 'velocity']>"
      ]
     },
     "execution_count": 8,
     "metadata": {},
     "output_type": "execute_result"
    }
   ],
   "source": [
    "f1.keys()"
   ]
  },
  {
   "cell_type": "code",
   "execution_count": 67,
   "metadata": {},
   "outputs": [
    {
     "data": {
      "text/plain": [
       "<HDF5 dataset \"streamflow\": shape (2729077,), type \"<i4\">"
      ]
     },
     "execution_count": 67,
     "metadata": {},
     "output_type": "execute_result"
    }
   ],
   "source": [
    "# f1['reference_time'].dtype\n",
    "\n",
    "f1['streamflow']"
   ]
  },
  {
   "cell_type": "code",
   "execution_count": 23,
   "metadata": {},
   "outputs": [
    {
     "data": {
      "text/plain": [
       "<Attributes of HDF5 object at 2189179811456>"
      ]
     },
     "execution_count": 23,
     "metadata": {},
     "output_type": "execute_result"
    }
   ],
   "source": [
    "f1['streamflow'].attrs"
   ]
  },
  {
   "cell_type": "code",
   "execution_count": 68,
   "metadata": {},
   "outputs": [
    {
     "data": {
      "text/plain": [
       "<Attributes of HDF5 object at 2240037078416>"
      ]
     },
     "execution_count": 68,
     "metadata": {},
     "output_type": "execute_result"
    }
   ],
   "source": [
    "f1.attrs"
   ]
  },
  {
   "cell_type": "code",
   "execution_count": 15,
   "metadata": {},
   "outputs": [
    {
     "ename": "TypeError",
     "evalue": "'KeysViewHDF5' object is not subscriptable",
     "output_type": "error",
     "traceback": [
      "\u001b[1;31m---------------------------------------------------------------------------\u001b[0m",
      "\u001b[1;31mTypeError\u001b[0m                                 Traceback (most recent call last)",
      "\u001b[1;32m<ipython-input-15-793387126721>\u001b[0m in \u001b[0;36m<module>\u001b[1;34m\u001b[0m\n\u001b[1;32m----> 1\u001b[1;33m \u001b[0mf1\u001b[0m\u001b[1;33m.\u001b[0m\u001b[0mattrs\u001b[0m\u001b[1;33m.\u001b[0m\u001b[0mkeys\u001b[0m\u001b[1;33m(\u001b[0m\u001b[1;33m)\u001b[0m\u001b[1;33m[\u001b[0m\u001b[1;34m'_NCproperties'\u001b[0m\u001b[1;33m]\u001b[0m\u001b[1;33m\u001b[0m\u001b[1;33m\u001b[0m\u001b[0m\n\u001b[0m",
      "\u001b[1;31mTypeError\u001b[0m: 'KeysViewHDF5' object is not subscriptable"
     ]
    }
   ],
   "source": [
    "f1.attrs.keys()['_NCproperties']"
   ]
  },
  {
   "cell_type": "code",
   "execution_count": 24,
   "metadata": {},
   "outputs": [
    {
     "data": {
      "text/plain": [
       "b'version=1|netcdflibversion=4.4.1.1|hdf5libversion=1.8.18'"
      ]
     },
     "execution_count": 24,
     "metadata": {},
     "output_type": "execute_result"
    }
   ],
   "source": [
    "f1.attrs['_NCProperties']"
   ]
  },
  {
   "cell_type": "code",
   "execution_count": 25,
   "metadata": {},
   "outputs": [
    {
     "name": "stdout",
     "output_type": "stream",
     "text": [
      "_NCProperties: b'version=1|netcdflibversion=4.4.1.1|hdf5libversion=1.8.18'\n",
      "featureType: b'timeSeries'\n",
      "proj4: b'+proj=longlat +datum=NAD83 +no_defs'\n",
      "model_initialization_time: b'2011-07-01_00:00:00'\n",
      "station_dimension: b'feature_id'\n",
      "model_output_valid_time: b'2011-08-28_15:00:00'\n",
      "stream_order_output: [1]\n",
      "cdm_datatype: b'Station'\n",
      "esri_pe_string: b'GEOGCS[GCS_North_American_1983,DATUM[D_North_American_1983,SPHEROID[GRS_1980,6378137.0,298.257222101]],PRIMEM[Greenwich,0.0],UNIT[Degree,0.017453292519943295]]'\n",
      "Conventions: b'CF-1.6'\n",
      "model_version: b'NWM 1.2'\n",
      "dev_OVRTSWCRT: [1]\n",
      "dev_NOAH_TIMESTEP: [3600]\n",
      "dev_channel_only: [0]\n",
      "dev_channelBucket_only: [0]\n",
      "dev: b'dev_ prefix indicates development/internal meta data'\n"
     ]
    }
   ],
   "source": [
    "for item in f1.attrs.keys():\n",
    "    print(item + \":\", f1.attrs[item])"
   ]
  }
 ],
 "metadata": {
  "kernelspec": {
   "display_name": "Python 3",
   "language": "python",
   "name": "python3"
  },
  "language_info": {
   "codemirror_mode": {
    "name": "ipython",
    "version": 3
   },
   "file_extension": ".py",
   "mimetype": "text/x-python",
   "name": "python",
   "nbconvert_exporter": "python",
   "pygments_lexer": "ipython3",
   "version": "3.8.5"
  }
 },
 "nbformat": 4,
 "nbformat_minor": 2
}
